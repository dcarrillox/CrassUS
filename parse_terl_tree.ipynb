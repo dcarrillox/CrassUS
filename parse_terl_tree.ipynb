{
 "cells": [
  {
   "cell_type": "code",
   "execution_count": 14,
   "id": "6860e62b",
   "metadata": {
    "tags": []
   },
   "outputs": [],
   "source": [
    "from ete3 import Tree, TreeStyle, TextFace, RectFace, NodeStyle, CircleFace"
   ]
  },
  {
   "cell_type": "code",
   "execution_count": 49,
   "id": "03854458-11dc-48ed-a0b4-3a12b220f9f0",
   "metadata": {
    "jupyter": {
     "source_hidden": true
    },
    "tags": []
   },
   "outputs": [],
   "source": [
    "# random tree for Figure 1\n",
    "import ngesh\n",
    "tree = ngesh.gen_tree(1.0, 0.5, max_time=3.0, labels=\"human\")\n",
    "tree = Tree(\"(((Sapgepu:0.76,Elu:0.85)1:0.372265,((((Sabihu:0.790596,Zine:0.790596)1:0.213875,Hegtigu:0.567503)1:0.165539,(Uipu:0.132467,LoL:0.25))1:0.105096,(((Kefih:0.123651,Mupe:0.19)1:0.8,(Batif:0.05,Hunu:0.138753)1:1.02295)1:0.0855855)1:0.0278151)1:0.288353)1:0.1);\")\n",
    "for node in tree.traverse():\n",
    "    node.name = \"\"\n",
    "    nstyle = NodeStyle()\n",
    "    nstyle[\"size\"] = 0\n",
    "    node.set_style(nstyle)\n",
    "\n",
    "\n",
    "ts = TreeStyle()\n",
    "ts.show_scale = False\n",
    "ts.min_leaf_separation = 35\n",
    "#tree.show(tree_style=ts)\n",
    "tree.render('tree_fig2.svg', tree_style=ts, h=400, w=100);\n"
   ]
  },
  {
   "cell_type": "code",
   "execution_count": 15,
   "id": "aa09c79f",
   "metadata": {
    "jupyter": {
     "source_hidden": true
    },
    "tags": []
   },
   "outputs": [],
   "source": [
    "# read taxonomy file and save it in a dict\n",
    "crass_taxonomy = dict()\n",
    "\n",
    "tax_file = \"resources/crass_taxonomy.txt\"\n",
    "lines = [line.strip().split(\"\\t\") for line in open(tax_file).readlines()]\n",
    "\n",
    "families = sorted(list(set([line[2] for line in lines])))\n",
    "subfamilies = list(set([line[3] for line in lines]))\n",
    "genera = list(set([line[4] for line in lines]))\n",
    "\n",
    "\n",
    "for line in lines:\n",
    "    crass_taxonomy[line[0]] = {\n",
    "                               \"family\":line[2],\n",
    "                               \"subfamily\":line[3],\n",
    "                               \"genus\":line[4]\n",
    "                              }"
   ]
  },
  {
   "cell_type": "code",
   "execution_count": 16,
   "id": "ddbf7901",
   "metadata": {
    "jupyter": {
     "source_hidden": true
    },
    "tags": []
   },
   "outputs": [],
   "source": [
    "tree_file = \"results/5_phylogenies/2_trees/TerL_trimmed.nwk\"\n",
    "#tree_file = \"results/5_phylogenies/tree/MCP_trimmed.nwk\"\n",
    "#tree_file = \"/home/danielc/TerL_trimmed.nwk\"\n",
    "t = Tree(tree_file, format=1)"
   ]
  },
  {
   "cell_type": "code",
   "execution_count": 4,
   "id": "df2a2888",
   "metadata": {
    "jupyter": {
     "source_hidden": true
    },
    "tags": []
   },
   "outputs": [],
   "source": [
    "# assign taxonomy\n",
    "for leaf in t.iter_leaves():\n",
    "    # check if the leaf comes from the reference set\n",
    "    genome = leaf.name.split(\"|\")[0]\n",
    "    if genome in crass_taxonomy:    \n",
    "        leaf.add_features(family=crass_taxonomy[genome][\"family\"],\n",
    "                          subfamily=crass_taxonomy[genome][\"subfamily\"],\n",
    "                          genus=crass_taxonomy[genome][\"genus\"],\n",
    "                          genome=genome)\n",
    "    else:\n",
    "        leaf.add_features(family=\"new\",\n",
    "                          subfamily=\"new\",\n",
    "                          genus=\"new\",\n",
    "                          genome=genome)"
   ]
  },
  {
   "cell_type": "code",
   "execution_count": 5,
   "id": "badd5e5f",
   "metadata": {
    "jupyter": {
     "source_hidden": true
    },
    "tags": []
   },
   "outputs": [],
   "source": [
    "# find the LCA of the two outgroup species\n",
    "outgs_leaves = t.search_nodes(family=\"outgroup\")\n",
    "outgs_lca = t.get_common_ancestor(outgs_leaves)\n",
    "# reroot the tree \n",
    "t.set_outgroup(outgs_lca)"
   ]
  },
  {
   "cell_type": "raw",
   "id": "0fff7895-1d6f-4500-ab67-62eb23b5512a",
   "metadata": {
    "jupyter": {
     "source_hidden": true
    },
    "tags": []
   },
   "source": [
    "colors = [\"red\",\"cyan\", \"green\", \"orange\", \"pink\", \"brown\", \"grey\"]\n",
    "fams_cols = {fam:col for fam, col in zip(families, colors)}\n",
    "print(families)\n",
    "print(fams_cols)\n",
    "ts = TreeStyle()\n",
    "ts.show_leaf_name = False\n",
    "#ts.force_topology = False\n",
    "\n",
    "\n",
    "for node in t.traverse():\n",
    "    if node.is_leaf():\n",
    "        if node.genome in crass_taxonomy and node.genome not in [\"NC_021803\", \"TARA_MK892509\"]:\n",
    "            nstyle = NodeStyle()\n",
    "            nstyle[\"fgcolor\"] = fams_cols[node.family]\n",
    "            nstyle[\"size\"] = 2\n",
    "            node.set_style(nstyle)\n",
    "            node.add_face(TextFace(f\"{crass_taxonomy[node.genome]['subfamily']},{crass_taxonomy[node.genome]['genus']}\"), column=0, position = \"branch-right\")\n",
    "        else:\n",
    "            node.add_face(TextFace(node.genome), column=0, position = \"branch-right\")\n",
    "            node.img_style[\"bgcolor\"] = \"lightgreen\"\n",
    "        \n",
    "    else:\n",
    "        nstyle = NodeStyle()\n",
    "        nstyle[\"size\"] = 0\n",
    "        node.set_style(nstyle)"
   ]
  },
  {
   "cell_type": "code",
   "execution_count": 40,
   "id": "bee4c3c4",
   "metadata": {
    "collapsed": true,
    "jupyter": {
     "outputs_hidden": true,
     "source_hidden": true
    },
    "tags": []
   },
   "outputs": [
    {
     "name": "stdout",
     "output_type": "stream",
     "text": [
      "Crevaviridae\n",
      "Intestiviridae\n",
      "Jelitoviridae\n",
      "Steigviridae\n",
      "Suoliviridae\n",
      "Tinaiviridae\n",
      "outgroup\n"
     ]
    }
   ],
   "source": [
    "# check the monophyly of the families in the tree\n",
    "for family in families:\n",
    "    print(family)\n",
    "    fam_leaves = t.search_nodes(family=family)\n",
    "    fam_lca = t.get_common_ancestor(fam_leaves)\n",
    "    \n",
    "    \n",
    "    for leaf in fam_lca.iter_leaves():\n",
    "        if leaf.family not in [family, \"new\"]:\n",
    "            print(f\"WATCH OUT! Monophyly of the {family} family is not guaranteed. Check {leaf.name} leaf.\")\n",
    "            \n",
    "\n",
    "#for subfam in subfamilies:\n",
    "#    check = False\n",
    "#    subfam_leaves = t.search_nodes(subfamily=subfam)\n",
    "#    if len(subfam_leaves) > 1:\n",
    "#        subfam_lca = t.get_common_ancestor(subfam_leaves)\n",
    "#        #print(genus)\n",
    "#        #print(gen_lca)\n",
    "#        #gen_lca.show(tree_style=ts)\n",
    "#    \n",
    "#    \n",
    "#        for leaf in subfam_lca.iter_leaves():\n",
    "#            if leaf.subfamily not in [subfam, \"new\"]:\n",
    "#                check = True\n",
    "#                print(f\"WATCH OUT! Monophyly of the {subfam} subfamily is not guaranteed. Check {leaf.name} leaf.\")\n",
    "#        if check:\n",
    "#            subfam_lca.show(tree_style=ts)\n",
    "#            break\n",
    "#   \n",
    "            \n",
    "# check the monophyly of the genera in the tree\n",
    "#for genus in genera:\n",
    "#    check = False\n",
    "#    gen_leaves = t.search_nodes(genus=genus)\n",
    "#    #print(gen_leaves)\n",
    "#    if len(gen_leaves) > 1:\n",
    "#        gen_lca = t.get_common_ancestor(gen_leaves)\n",
    "#        #print(genus)\n",
    "#        #print(gen_lca)\n",
    "#        #gen_lca.show(tree_style=ts)\n",
    "#    \n",
    "#    \n",
    "#        for leaf in gen_lca.iter_leaves():\n",
    "#            if leaf.genus not in [genus, \"new\"]:\n",
    "#                check = True\n",
    "#                print(f\"WATCH OUT! Monophyly of the {genus} family is not guaranteed. Check {leaf.name} leaf.\")\n",
    "#        if check:\n",
    "#            gen_lca.show(tree_style=ts)\n",
    "#"
   ]
  },
  {
   "cell_type": "code",
   "execution_count": null,
   "id": "8fb7ce6b",
   "metadata": {
    "jupyter": {
     "source_hidden": true
    },
    "tags": []
   },
   "outputs": [],
   "source": [
    "t.show()"
   ]
  },
  {
   "cell_type": "markdown",
   "id": "f135625b",
   "metadata": {
    "jupyter": {
     "source_hidden": true
    },
    "tags": []
   },
   "source": [
    "**Classify the found genomes**"
   ]
  },
  {
   "cell_type": "code",
   "execution_count": null,
   "id": "e3d2f2e0",
   "metadata": {
    "jupyter": {
     "source_hidden": true
    },
    "tags": []
   },
   "outputs": [],
   "source": [
    "# approach 1\n",
    "\n",
    "# identify which genomes were found by crAssUS and need to be classified\n",
    "crassus_terl_classification = dict()\n",
    "for leaf in t.iter_leaves():\n",
    "    # check if it is a new contig found by crAssUS\n",
    "    if leaf.genome not in crass_taxonomy:\n",
    "        # if so, create an entry in the terL classification\n",
    "        crassus_terl_classification[leaf.genome] = {\"family\":str(), \"subfamily\":str(), \"genus\":str()}\n",
    "\n",
    "\n",
    "families = [\"Intestiviridae\", \"Jelitoviridae\", \"Crevaviridae\", \"Tinaiviridae\", \"Suoliviridae\", \"Steigviridae\"]\n",
    "subfamilies = [\"Asinivirinae\", \"Bearivirinae\", \"Boorivirinae\", \"Churivirinae\", \"Coarsevirinae\", \"Crudevirinae\", \"Doltivirinae\", \"Grossvirinae\", \"Loutivirinae\", \"Lumpivirinae\", \"Oafivirinae\", \"Uncouvirinae\"]\n",
    "\n",
    "\n",
    "# iterate families and subfamilies looking for their LCA\n",
    "for family in families:\n",
    "    nodes = t.search_nodes(family=family)\n",
    "    lca = t.get_common_ancestor(nodes)\n",
    "    for leaf in lca.iter_leaves():\n",
    "        if leaf.family in [family, \"\"]:\n",
    "            if leaf.family == \"\":\n",
    "                crassus_terl_classification[leaf.genome][\"family\"] = family\n",
    "            \n",
    "        else:\n",
    "            print(f\"check monophyly of {family}\")\n",
    "\n",
    "for subfamily in subfamilies:\n",
    "    nodes = t.search_nodes(subfamily=subfamily)\n",
    "    lca = t.get_common_ancestor(nodes)\n",
    "    for leaf in lca.iter_leaves():\n",
    "        if leaf.subfamily in [subfamily, \"\"]:\n",
    "            if leaf.subfamily == \"\":\n",
    "                crassus_terl_classification[leaf.genome][\"subfamily\"] = subfamily\n",
    "            \n",
    "        else:\n",
    "            print(f\"check monophyly of {subfamily}\")\n",
    "\n",
    "\n",
    "\n",
    "\n",
    "for genome, taxa in crassus_terl_classification.items():\n",
    "    print(genome, taxa)"
   ]
  },
  {
   "cell_type": "code",
   "execution_count": null,
   "id": "a9805939",
   "metadata": {
    "jupyter": {
     "source_hidden": true
    },
    "tags": []
   },
   "outputs": [],
   "source": [
    "# approach 2\n",
    "crassus_terl_classification = dict()\n",
    "\n",
    "for leaf in t.iter_leaves():\n",
    "    # check if it is a new contig found by crAssUS\n",
    "    if leaf.genome not in crass_taxonomy:\n",
    "        # if so, create an entry in the terL classification\n",
    "        crassus_terl_classification[leaf.genome] = {\"family\":str(), \"subfamily\":str(), \"genus\":str()}\n",
    "        \n",
    "        # family and subfamily: inspect the upper node\n",
    "        node = leaf.up\n",
    "        fam,subfam = list(), list()\n",
    "        for hoja in node.iter_leaves():\n",
    "            fam.append(hoja.family)\n",
    "            subfam.append(hoja.subfamily)\n",
    "            \n",
    "        fam.remove(\"\")\n",
    "        subfam.remove(\"\")\n",
    "        \n",
    "        fam, subfam = list(set(fam)), list(set(subfam))\n",
    "        if len(fam) == 1:\n",
    "            crassus_terl_classification[leaf.genome][\"family\"] = fam[0]\n",
    "        if len(subfam) == 1:\n",
    "            crassus_terl_classification[leaf.genome][\"subfamily\"] = subfam[0]\n",
    "            \n",
    "        # genus: inspect the two upper nodes\n",
    "        node = leaf.up.up\n",
    "        genus = list()\n",
    "        for hoja in node.iter_leaves():\n",
    "            genus.append(hoja.genus)\n",
    "        \n",
    "        genus.remove(\"\")\n",
    "        genus = list(set(genus))\n",
    "        if len(genus) == 1:\n",
    "            crassus_terl_classification[leaf.genome][\"genus\"] = genus[0]\n",
    "        \n",
    "            \n",
    "            \n",
    "\n",
    "for genome, taxa in crassus_terl_classification.items():\n",
    "    print(genome, taxa)"
   ]
  },
  {
   "cell_type": "code",
   "execution_count": null,
   "id": "d2e10ad8",
   "metadata": {
    "jupyter": {
     "source_hidden": true
    },
    "tags": []
   },
   "outputs": [],
   "source": [
    "R = t.get_midpoint_outgroup()\n",
    "# and set it as tree outgroup\n",
    "t.set_outgroup(R)"
   ]
  },
  {
   "cell_type": "code",
   "execution_count": null,
   "id": "01845a63",
   "metadata": {
    "jupyter": {
     "source_hidden": true
    },
    "tags": []
   },
   "outputs": [],
   "source": [
    "t.show(tree_style=ts)"
   ]
  },
  {
   "cell_type": "code",
   "execution_count": null,
   "id": "eaba1d99",
   "metadata": {},
   "outputs": [],
   "source": []
  },
  {
   "cell_type": "markdown",
   "id": "9da3266e",
   "metadata": {},
   "source": [
    "## LAB MEETING SLIDES"
   ]
  },
  {
   "cell_type": "code",
   "execution_count": 10,
   "id": "e304b9c0-f49b-443b-9357-f9f168e370cc",
   "metadata": {},
   "outputs": [],
   "source": [
    "from ete3 import Tree, TreeStyle, TextFace, RectFace, NodeStyle, CircleFace\n",
    "import pandas as pd\n",
    "from matplotlib import colors\n"
   ]
  },
  {
   "cell_type": "code",
   "execution_count": 21,
   "id": "3783dcb8-9c8b-49f7-a047-0a63a2bced48",
   "metadata": {
    "tags": []
   },
   "outputs": [],
   "source": [
    "def collapse_families(families_list, tree):\n",
    "    for family in families_list:\n",
    "        fam_leaves = tree.search_nodes(family=family)\n",
    "        fam_lca = tree.get_common_ancestor(fam_leaves)\n",
    "        fam_lca.name = family\n",
    "        fam_lca.add_face(TextFace(family), column=0, position = \"branch-right\")\n",
    "        for child in fam_lca.iter_descendants():\n",
    "            child.detach()\n",
    "            \n",
    "            \n",
    "# read taxonomy file and save it in a dict\n",
    "crass_taxonomy = dict()\n",
    "\n",
    "tax_file = \"resources/crass_taxonomy.txt\"\n",
    "lines = [line.strip().split(\"\\t\") for line in open(tax_file).readlines()]\n",
    "\n",
    "families = sorted(list(set([line[2] for line in lines])))\n",
    "\n",
    "\n",
    "for line in lines:\n",
    "    crass_taxonomy[line[0]] = {\n",
    "                               \"family\":line[2],\n",
    "                               \"subfamily\":line[3],\n",
    "                               \"genus\":line[4]\n",
    "                              }\n",
    "    \n",
    "    \n",
    "    \n",
    "##\n",
    "mex = [\"SRR12557708\", \"SRR12557709\", \"SRR12557710\", \"SRR12557712\", \"SRR12557714\", \"SRR12557715\", \"SRR12557716\", \"SRR12557717\", \"SRR12557718\", \"SRR12557719\", \"SRR12557720\", \"SRR12557721\", \"SRR12557723\", \"SRR12557724\",\"SRR12557725\", \"SRR12557728\", \"SRR12557729\", \"SRR12557730\", \"SRR12557731\"]\n",
    "ancient = [\"SRR12557704\", \"SRR12557705\", \"SRR12557706\", \"SRR12557707\", \"SRR12557711\", \"SRR12557722\", \"SRR12557733\", \"SRR12557734\"]\n",
    "apes = [\"Chimp25\", \"Chimp20\", \"Baboon19\", \"Baboon22\", \"Baboon36B\", \"Lemur1\", \"Lemur8\", \"Lemur9\", \"Howler1\", \"Howler2\", \"Howler3\", \"Dunia-s-4\", \"Dunia-s-5\", \"Pinga-s-2\", \"Pinga-s-3\", \"Serafuli-s-6\", \"Serafuli-s-7\"]\n",
    "iceman = [\"ERR1094777\",\"ERR1094778\",\"ERR1094779\",\"ERR1094780\",\"ERR1094781\",\"ERR1094782\",\"ERR1094783\",\"ERR1094784\",\"ERR1094785\",\"ERR1094786\",\"ERR1094787\",\"ERR1094788\",\"ERR1094789\",\"ERR1094790\",\"ERR1094791\",\"ERR1094792\",\"ERR1094793\",\"ERR1094794\"]\n",
    "\n",
    "samples_type = dict()\n",
    "for sample in mex:\n",
    "    samples_type[sample] = 'modern'\n",
    "for sample in ancient:\n",
    "    samples_type[sample] = 'ancient'\n",
    "for sample in apes:\n",
    "    samples_type[sample] = 'NH_primates'\n",
    "for sample in iceman:\n",
    "    samples_type[sample] = 'iceman'\n",
    "\n",
    "samples_type_colors = {\"NH_primates\":\"#8b4513\", \"iceman\":\"#20b2aa\", \"soil\":\"#228b22\", \"ancient\":\"magenta\", \"modern\":\"#ffa500\"}\n",
    "\n",
    "\n",
    "#colors.to_hex(\"orange\")\n",
    "\n",
    "\n",
    "## read sp_gen_file, save to df\n",
    "#sp_gen_file = \"results/7_ANI/assigned_genus_species.txt\"\n",
    "#sp_gen_df = pd.read_csv(sp_gen_file, header =0, sep=\"\\t\", names=[\"genome\", \"genus\", \"species\"])\n",
    "#sp_gen_df = sp_gen_df.set_index(\"genome\")\n",
    "#sp_gen_df"
   ]
  },
  {
   "cell_type": "code",
   "execution_count": 28,
   "id": "bc1a45bc",
   "metadata": {},
   "outputs": [
    {
     "name": "stdout",
     "output_type": "stream",
     "text": [
      "{'Crevaviridae': 'red', 'Intestiviridae': 'cyan', 'Jelitoviridae': 'green', 'Steigviridae': 'orange', 'Suoliviridae': 'violet', 'Tinaiviridae': 'brown', 'outgroup': 'grey'}\n"
     ]
    }
   ],
   "source": [
    "##    \n",
    "\n",
    "tree_file = \"results/5_phylogenies/2_trees/TerL_trimmed.nwk\"\n",
    "t = Tree(tree_file, format=1)\n",
    "\n",
    "\n",
    "# assign taxonomy\n",
    "for leaf in t.iter_leaves():\n",
    "    # check if the leaf comes from the reference set\n",
    "    genome = leaf.name.split(\"|\")[0]\n",
    "    sample = genome.split(\"_\")[0]\n",
    "    if genome in crass_taxonomy:    \n",
    "        leaf.add_features(family=crass_taxonomy[genome][\"family\"],\n",
    "                          subfamily=crass_taxonomy[genome][\"subfamily\"],\n",
    "                          genus=crass_taxonomy[genome][\"genus\"],\n",
    "                          genome=genome)\n",
    "    else:\n",
    "        leaf.add_features(family=\"new\",\n",
    "                          subfamily=\"new\",\n",
    "                          genus=\"new\",\n",
    "                          genome=genome,\n",
    "                          sample_type=samples_type[sample], \n",
    "                          sample=sample)\n",
    "        \n",
    "# find the LCA of the two outgroup species\n",
    "outgs_leaves = t.search_nodes(family=\"outgroup\")\n",
    "outgs_lca = t.get_common_ancestor(outgs_leaves)\n",
    "t.set_outgroup(outgs_lca)\n",
    "\n",
    "\n",
    "\n",
    "\n",
    "\n",
    "# prepare a file to write ranges for iTOL\n",
    "to_write_ranges = [\"TREE_COLORS\\nSEPARATOR TAB\\nDATA\\n\"]\n",
    "\n",
    "colors = [\"red\",\"cyan\", \"green\", \"orange\", \"violet\", \"brown\", \"grey\"]\n",
    "fams_cols = {fam:col for fam, col in zip(families, colors)}\n",
    "print(fams_cols)\n",
    "ts = TreeStyle()\n",
    "ts.show_leaf_name = False\n",
    "#ts.force_topology = False\n",
    "\n",
    "\n",
    "for node in t.traverse():\n",
    "    if node.is_leaf():\n",
    "        sample = node.name.split(\"_\")[0]\n",
    "        if node.genome in crass_taxonomy:# and node.genome not in [\"NC_021803\", \"TARA_MK892509\"]:\n",
    "            nstyle = NodeStyle()\n",
    "            nstyle[\"fgcolor\"] = fams_cols[node.family]\n",
    "            nstyle[\"size\"] = 0\n",
    "            node.set_style(nstyle)\n",
    "            node.add_face(TextFace(f\"{crass_taxonomy[node.genome]['subfamily']},{crass_taxonomy[node.genome]['genus']}\"), column=0, position = \"branch-right\")\n",
    "        else:\n",
    "            node.add_face(TextFace(node.name), column=0, position = \"branch-right\")\n",
    "            node.img_style[\"size\"] = 0\n",
    "            node.img_style[\"bgcolor\"] = samples_type_colors[node.sample_type]\n",
    "            \n",
    "            # write range\n",
    "            if sample in samples_type:\n",
    "                itol_range = f\"{node.name}\\trange\\t{samples_type_colors[node.sample_type]}\\n\"\n",
    "                to_write_ranges.append(itol_range)\n",
    "            \n",
    "        # add genus, species annot\n",
    "        #node.add_face(TextFace(sp_gen_df.loc[node.genome, \"genus\"], fsize=9, fgcolor=\"red\"), column=2, position = \"branch-right\")\n",
    "        #node.add_face(TextFace(sp_gen_df.loc[node.genome, \"species\"], fsize=9, fgcolor=\"blue\"), column=4, position = \"branch-right\")\n",
    "           \n",
    "        \n",
    "    else:\n",
    "        # support values are in the name of the node, support is a mock 1 by default.\n",
    "        # Put the name into the support object\n",
    "        if node.name != \"\":\n",
    "            node.support = round(float(node.name), 2)\n",
    "        if  node.get_distance(outgs_lca, topology_only=True) < 7:\n",
    "            node.img_style['size'] = 10\n",
    "            if node.support < 0.5:\n",
    "                node.img_style[\"fgcolor\"] = \"red\"\n",
    "            elif 0.5 < node.support < 0.7:\n",
    "                 node.img_style[\"fgcolor\"] = \"orange\"\n",
    "            elif 0.7 <= node.support <= 1:\n",
    "                 node.img_style[\"fgcolor\"] = \"green\"\n",
    "                \n",
    "                \n",
    "        else:\n",
    "            nstyle = NodeStyle()\n",
    "            nstyle[\"size\"] = 0\n",
    "            node.set_style(nstyle)\n",
    "        \n",
    "        \n",
    "for family in families:\n",
    "        fam_leaves = t.search_nodes(family=family)\n",
    "        fam_lca = t.get_common_ancestor(fam_leaves)\n",
    "        fam_lca.name = family\n",
    "        # color branches according to the family\n",
    "        for node in fam_lca.traverse():\n",
    "            node.img_style['hz_line_color'] = fams_cols[family] \n",
    "            node.img_style['vt_line_color'] = fams_cols[family]\n",
    "            node.img_style['hz_line_width'] = 2\n",
    "            node.img_style['vt_line_width'] = 2\n",
    "            node.img_style['size'] = 0\n",
    "            \n",
    "                \n",
    "            \n",
    "\n",
    "\n",
    "#collapse_families(families, t)\n",
    "\n",
    "# get the ids of the proteins that were not collapsed within a family\n",
    "#with open(\"trees_benchmark/terl_outs.txt\", \"w\") as fout:\n",
    "#    for leaf in t.iter_leaves():\n",
    "#        if leaf.name not in families:\n",
    "#            fout.write(f\"{leaf.name}\\n\")\n",
    "#            \n",
    "mex = [\"SRR12557708\", \"SRR12557709\", \"SRR12557710\", \"SRR12557712\", \"SRR12557714\", \"SRR12557715\", \"SRR12557716\", \"SRR12557717\", \"SRR12557718\", \"SRR12557719\", \"SRR12557720\", \"SRR12557721\", \"SRR12557723\", \"SRR12557725\", \"SRR12557728\", \"SRR12557729\", \"SRR12557730\", \"SRR12557731\"]\n",
    "ancient = [\"SRR12557704\", \"SRR12557705\", \"SRR12557706\", \"SRR12557707\", \"SRR12557711\", \"SRR12557722\", \"SRR12557733\", \"SRR12557734\"]\n",
    "apes = [\"Baboon19\", \"Baboon22\", \"Baboon36B\", \"Lemur1\", \"Lemur8\", \"Lemur9\", \"Howler1\", \"Howler2\", \"Howler3\", \"Dunia-s-4\", \"Dunia-s-5\", \"Pinga-s-2\", \"Pinga-s-3\", \"Serafuli-s-6\", \"Serafuli-s-7\"]\n",
    "  \n",
    "t.write(format=1, outfile=\"ancient_TerL_for_itol.nw\")\n",
    "with open(\"ancient_terl_itol_ranges.txt\", \"w\") as fout:\n",
    "    for line in to_write_ranges:\n",
    "        fout.write(line)\n",
    "    \n",
    "    "
   ]
  },
  {
   "cell_type": "code",
   "execution_count": 8,
   "id": "fd54b330-2217-495e-b8a2-92a5c2677a1f",
   "metadata": {},
   "outputs": [],
   "source": [
    "ts = TreeStyle()\n",
    "ts.show_leaf_name = False\n",
    "ts.mode = \"c\"\n",
    "#ts.show_branch_support = True\n",
    "#ts.arc_start = -180 # 0 degrees = 3 o'clock\n",
    "#ts.arc_span = 180\n",
    "t.show(tree_style=ts)\n",
    "#t.render(\"terl_tree_2.png\", tree_style=ts);"
   ]
  },
  {
   "cell_type": "code",
   "execution_count": null,
   "id": "ee569298-c7e9-4b22-955d-8214353cb484",
   "metadata": {},
   "outputs": [],
   "source": []
  },
  {
   "cell_type": "code",
   "execution_count": null,
   "id": "5b44622a-0fe2-4b09-83f7-cb0b590b77ec",
   "metadata": {},
   "outputs": [],
   "source": []
  }
 ],
 "metadata": {
  "kernelspec": {
   "display_name": "Python 3 (ipykernel)",
   "language": "python",
   "name": "python3"
  },
  "language_info": {
   "codemirror_mode": {
    "name": "ipython",
    "version": 3
   },
   "file_extension": ".py",
   "mimetype": "text/x-python",
   "name": "python",
   "nbconvert_exporter": "python",
   "pygments_lexer": "ipython3",
   "version": "3.9.5"
  }
 },
 "nbformat": 4,
 "nbformat_minor": 5
}
